{
 "cells": [
  {
   "cell_type": "code",
   "execution_count": 2,
   "id": "5438e5a3",
   "metadata": {},
   "outputs": [],
   "source": [
    "import plotly.graph_objects as go\n",
    "import plotly.offline as pyo"
   ]
  },
  {
   "cell_type": "code",
   "execution_count": 6,
   "id": "d8a2015d",
   "metadata": {},
   "outputs": [
    {
     "data": {
      "text/plain": [
       "'temp-plot.html'"
      ]
     },
     "execution_count": 6,
     "metadata": {},
     "output_type": "execute_result"
    }
   ],
   "source": [
    "categories = ['Balanced Accuracy', 'High Risk Precision', 'Low Risk Precision', 'High Risk Sensitivity', 'Low Risk Sensitivity']\n",
    "categories = [*categories, categories[0]]\n",
    "\n",
    "oversampling_LR = [0.5, 1, 0.99, 0.01, 1]\n",
    "SMOTE_LR = [0.66, 0.01, 1, 0.63, 0.69]\n",
    "undersampling_LR = [0.59, 0.01, 1, 0.62, 0.55]\n",
    "SMOTEENN_LR = [0.64, 0.01, 1, 0.72, 0.57]\n",
    "bal_random_forest = [0.79, 0.03, 1, 0.71, 0.87]\n",
    "easy_ensemble_adaboost = [0.93, 0.09, 1, 0.91, 0.95]\n",
    "\n",
    "oversampling_LR = [*oversampling_LR, oversampling_LR[0]]\n",
    "SMOTE_LR = [*SMOTE_LR, SMOTE_LR[0]]\n",
    "undersampling_LR = [*undersampling_LR, undersampling_LR[0]]\n",
    "SMOTEENN_LR = [*SMOTEENN_LR, SMOTEENN_LR[0]]\n",
    "bal_random_forest = [*bal_random_forest, bal_random_forest[0]]\n",
    "easy_ensemble_adaboost = [*easy_ensemble_adaboost, easy_ensemble_adaboost[0]]\n",
    "\n",
    "fig = go.Figure(\n",
    "    data=[\n",
    "        go.Scatterpolar(r=oversampling_LR, theta=categories, fill='toself', name='Random Oversampling + LR'),\n",
    "        go.Scatterpolar(r=SMOTE_LR, theta=categories, fill='toself', name='SMOTE Oversampling + LR'),\n",
    "        go.Scatterpolar(r=undersampling_LR, theta=categories, fill='toself', name='Undersampling + LR'),\n",
    "        go.Scatterpolar(r=SMOTEENN_LR, theta=categories, fill='toself', name='SMOTEENN Resampling + LR'),\n",
    "        go.Scatterpolar(r=bal_random_forest, theta=categories, fill='toself', name='Balanced Random Forest'),\n",
    "        go.Scatterpolar(r=easy_ensemble_adaboost, theta=categories, fill='toself', name='Easy Ensemble AdaBoost'),\n",
    "    ],\n",
    "    layout=go.Layout(\n",
    "        title=go.layout.Title(text='Model Comparison'),\n",
    "        polar={'radialaxis': {'visible': True}},\n",
    "        showlegend=True\n",
    "    )\n",
    ")\n",
    "\n",
    "pyo.plot(fig)"
   ]
  },
  {
   "cell_type": "code",
   "execution_count": null,
   "id": "faefe400",
   "metadata": {},
   "outputs": [],
   "source": []
  }
 ],
 "metadata": {
  "kernelspec": {
   "display_name": "mlenv",
   "language": "python",
   "name": "mlenv"
  },
  "language_info": {
   "codemirror_mode": {
    "name": "ipython",
    "version": 3
   },
   "file_extension": ".py",
   "mimetype": "text/x-python",
   "name": "python",
   "nbconvert_exporter": "python",
   "pygments_lexer": "ipython3",
   "version": "3.7.10"
  }
 },
 "nbformat": 4,
 "nbformat_minor": 5
}
